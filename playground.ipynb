{
 "cells": [
  {
   "cell_type": "code",
   "execution_count": 400,
   "id": "dfa307ca",
   "metadata": {},
   "outputs": [],
   "source": [
    "# Import necessary libraries\n",
    "import yfinance as yf\n",
    "import pandas as pd\n",
    "import matplotlib.pyplot as plt\n",
    "from scipy.signal import find_peaks\n",
    "from datetime import datetime"
   ]
  },
  {
   "cell_type": "code",
   "execution_count": 401,
   "id": "c847ec19",
   "metadata": {},
   "outputs": [
    {
     "name": "stdout",
     "output_type": "stream",
     "text": [
      "Hello from automate-minimas!\n"
     ]
    }
   ],
   "source": [
    "from main import main\n",
    "\n",
    "main()"
   ]
  },
  {
   "cell_type": "code",
   "execution_count": 402,
   "id": "490214ca",
   "metadata": {},
   "outputs": [],
   "source": [
    "def fetch_data(ticker, start_date, end_date):\n",
    "    \"\"\"Fetch historical data for a given ticker and date range using yfinance.\"\"\"\n",
    "    data = yf.download(ticker, start=start_date, end=end_date)\n",
    "    if data.empty:\n",
    "        raise ValueError(f\"No data found for ticker {ticker} in the given date range.\")\n",
    "    return data"
   ]
  },
  {
   "cell_type": "code",
   "execution_count": 403,
   "id": "48d6f014",
   "metadata": {},
   "outputs": [],
   "source": [
    "def find_extrema(data, column, peak_count=2, maximum=True):\n",
    "    \"\"\"Find specified number of minimas or maximas in the given column of the data.\"\"\"\n",
    "    if column not in data.columns:\n",
    "        raise ValueError(f\"Column {column} not found in data.\")\n",
    "    # Ensure the column data is a 1-D array\n",
    "    column_data = data[column].dropna().values.squeeze()\n",
    "\n",
    "    # Find extrema\n",
    "    if not maximum:\n",
    "        column_data = -column_data\n",
    "    price_range = column_data.max() - column_data.min()\n",
    "    prominence = price_range * 0.4  # Adjust prominence as needed\n",
    "    extrema_indices, _ = find_peaks(column_data, prominence=prominence)\n",
    "    # extrema_indices =\n",
    "    extrema = data.iloc[extrema_indices]\n",
    "    # .nlargest(peak_count, column)\n",
    "\n",
    "    return extrema"
   ]
  },
  {
   "cell_type": "code",
   "execution_count": 404,
   "id": "356c3c68",
   "metadata": {},
   "outputs": [],
   "source": [
    "def display_results(extrema, column):\n",
    "    \"\"\"Display the extrema results in a clear format.\"\"\"\n",
    "    print(f\"\\nDetected extrema for column: {column}\")\n",
    "    for idx, row in extrema.iterrows():\n",
    "        print(f\"Date: {idx}, Value: {row[column]}\")"
   ]
  },
  {
   "cell_type": "code",
   "execution_count": 405,
   "id": "c71fc94b",
   "metadata": {},
   "outputs": [
    {
     "data": {
      "application/vnd.microsoft.datawrangler.viewer.v0+json": {
       "columns": [
        {
         "name": "Date",
         "rawType": "datetime64[ns]",
         "type": "datetime"
        },
        {
         "name": "Close",
         "rawType": "float64",
         "type": "float"
        },
        {
         "name": "High",
         "rawType": "float64",
         "type": "float"
        },
        {
         "name": "Low",
         "rawType": "float64",
         "type": "float"
        },
        {
         "name": "Open",
         "rawType": "float64",
         "type": "float"
        },
        {
         "name": "Volume",
         "rawType": "int64",
         "type": "integer"
        }
       ],
       "ref": "787a32e2-8b92-4fc8-a1f3-fa6bcd64df0e",
       "rows": [
        [
         "2025-08-21 00:00:00",
         "113.79000091552734",
         "114.75",
         "113.33000183105469",
         "114.45999908447266",
         "284300"
        ]
       ],
       "shape": {
        "columns": 5,
        "rows": 1
       }
      },
      "text/html": [
       "<div>\n",
       "<style scoped>\n",
       "    .dataframe tbody tr th:only-of-type {\n",
       "        vertical-align: middle;\n",
       "    }\n",
       "\n",
       "    .dataframe tbody tr th {\n",
       "        vertical-align: top;\n",
       "    }\n",
       "\n",
       "    .dataframe thead th {\n",
       "        text-align: right;\n",
       "    }\n",
       "</style>\n",
       "<table border=\"1\" class=\"dataframe\">\n",
       "  <thead>\n",
       "    <tr style=\"text-align: right;\">\n",
       "      <th>Price</th>\n",
       "      <th>Close</th>\n",
       "      <th>High</th>\n",
       "      <th>Low</th>\n",
       "      <th>Open</th>\n",
       "      <th>Volume</th>\n",
       "    </tr>\n",
       "    <tr>\n",
       "      <th>Date</th>\n",
       "      <th></th>\n",
       "      <th></th>\n",
       "      <th></th>\n",
       "      <th></th>\n",
       "      <th></th>\n",
       "    </tr>\n",
       "  </thead>\n",
       "  <tbody>\n",
       "    <tr>\n",
       "      <th>2025-08-21</th>\n",
       "      <td>113.790001</td>\n",
       "      <td>114.75</td>\n",
       "      <td>113.330002</td>\n",
       "      <td>114.459999</td>\n",
       "      <td>284300</td>\n",
       "    </tr>\n",
       "  </tbody>\n",
       "</table>\n",
       "</div>"
      ],
      "text/plain": [
       "Price            Close    High         Low        Open  Volume\n",
       "Date                                                          \n",
       "2025-08-21  113.790001  114.75  113.330002  114.459999  284300"
      ]
     },
     "execution_count": 405,
     "metadata": {},
     "output_type": "execute_result"
    }
   ],
   "source": [
    "low_minima.iloc[:1]"
   ]
  },
  {
   "cell_type": "code",
   "execution_count": 406,
   "id": "94013843",
   "metadata": {},
   "outputs": [
    {
     "name": "stderr",
     "output_type": "stream",
     "text": [
      "C:\\Users\\Maciej\\AppData\\Local\\Temp\\ipykernel_18480\\6992924.py:3: FutureWarning:\n",
      "\n",
      "YF.download() has changed argument auto_adjust default to True\n",
      "\n",
      "[*********************100%***********************]  1 of 1 completed"
     ]
    },
    {
     "name": "stdout",
     "output_type": "stream",
     "text": [
      "Low MIniamas:\n",
      "\n",
      "Detected extrema for column: Low\n",
      "Date: 2025-08-21 00:00:00, Value: 113.33000183105469\n",
      "\n",
      "High Maximas:\n",
      "\n",
      "Detected extrema for column: High\n",
      "Date: 2025-08-28 00:00:00, Value: 120.2699966430664\n"
     ]
    },
    {
     "name": "stderr",
     "output_type": "stream",
     "text": [
      "\n"
     ]
    }
   ],
   "source": [
    "# Example usage\n",
    "\n",
    "\n",
    "ticker = \"CPA\"\n",
    "start_date = \"2025-08-12\"\n",
    "end_date = \"2025-09-10\"\n",
    "# ticker = \"agco\"\n",
    "# start_date = \"2025-07-30\"\n",
    "# end_date = \"2025-09-03\"\n",
    "# ticker = \"BLK\"\n",
    "# start_date = \"2025-08-12\"\n",
    "# end_date = \"2025-09-04\"\n",
    "\n",
    "# Fetch data\n",
    "data = fetch_data(ticker, start_date, end_date)\n",
    "data.columns = data.columns.droplevel(1)  # need to drop company name level\n",
    "\n",
    "# Find extrema for 'Low' and 'High' columns\n",
    "low_minima = find_extrema(data, \"Low\", maximum=False)\n",
    "high_maxima = find_extrema(data, \"High\", maximum=True)\n",
    "\n",
    "\n",
    "def ensure_maximum_after_minimum(low_minima, high_maxima):\n",
    "    \"\"\"Returns first minimum followed by the first maximum after it.\"\"\"\n",
    "    minimum = low_minima.iloc[[0]]  # purposefuly keeping dataframe format\n",
    "    maximum = high_maxima[high_maxima.index > minimum.index].iloc[[0]]\n",
    "    return minimum, maximum\n",
    "\n",
    "\n",
    "low_minima, high_maxima = ensure_maximum_after_minimum(low_minima, high_maxima)\n",
    "# Display results\n",
    "print(\"Low MIniamas:\")\n",
    "display_results(low_minima, \"Low\")\n",
    "print(\"\\nHigh Maximas:\")\n",
    "display_results(high_maxima, \"High\")\n"
   ]
  },
  {
   "cell_type": "code",
   "execution_count": 407,
   "id": "7219c188",
   "metadata": {},
   "outputs": [
    {
     "data": {
      "application/vnd.plotly.v1+json": {
       "config": {
        "plotlyServerURL": "https://plot.ly"
       },
       "data": [
        {
         "close": {
          "bdata": "AAAAACksXkAAAACA69FdQAAAACBcH11AAAAAgOtRXUAAAAAAKRxdQAAAAEAzw1xAAAAAgBSeXEAAAABgj3JcQAAAAADXQ11AAAAAQAoHXUAAAACgmXldQAAAAIAUTl1AAAAA4KMAXkAAAACAwlVdQAAAAKBHEV1AAAAAANdjXUAAAABgZoZdQAAAAOB6dF1AAAAAANfDXEAAAABACodcQA==",
          "dtype": "f8"
         },
         "high": {
          "bdata": "AAAA4FFoXkAAAADAzCxeQAAAAGCP0l1AAAAA4FFYXUAAAADA9XhdQAAAAGBmFl1AAAAAANcTXUAAAAAAALBcQAAAAIAUTl1AAAAAwB5lXUAAAACgcJ1dQAAAAGC4bl1AAAAAoEcRXkAAAAAAAKBdQAAAAKCZKV1AAAAAAADAXUAAAABgZrZdQAAAAMAe1V1AAAAAQAqHXUAAAACAFO5cQA==",
          "dtype": "f8"
         },
         "low": {
          "bdata": "AAAAQDNDXUAAAAAAAJBdQAAAAEAzE11AAAAAANcTXUAAAADgowBdQAAAAEDhmlxAAAAAoHBdXEAAAADAHlVcQAAAAMAeZVxAAAAAQAoHXUAAAAAAAABdQAAAACCuF11AAAAAgD1aXUAAAAAgXE9dQAAAAEAzg1xAAAAA4HokXUAAAAAAKUxdQAAAAADXQ11AAAAAACmcXEAAAADAzGxcQA==",
          "dtype": "f8"
         },
         "name": "Candlestick",
         "open": {
          "bdata": "AAAAYI9SXUAAAAAAAABeQAAAAIA9ul1AAAAAwMw8XUAAAACgR0FdQAAAAEAzE11AAAAAAADAXEAAAACgcJ1cQAAAAIA9elxAAAAAANdDXUAAAAAA1yNdQAAAAGBmVl1AAAAAwB51XUAAAADA9YhdQAAAAADX01xAAAAAIFwvXUAAAACgmXldQAAAAMD1qF1AAAAAgD16XUAAAACAPapcQA==",
          "dtype": "f8"
         },
         "type": "candlestick",
         "x": [
          "2025-08-12T00:00:00.000000000",
          "2025-08-13T00:00:00.000000000",
          "2025-08-14T00:00:00.000000000",
          "2025-08-15T00:00:00.000000000",
          "2025-08-18T00:00:00.000000000",
          "2025-08-19T00:00:00.000000000",
          "2025-08-20T00:00:00.000000000",
          "2025-08-21T00:00:00.000000000",
          "2025-08-22T00:00:00.000000000",
          "2025-08-25T00:00:00.000000000",
          "2025-08-26T00:00:00.000000000",
          "2025-08-27T00:00:00.000000000",
          "2025-08-28T00:00:00.000000000",
          "2025-08-29T00:00:00.000000000",
          "2025-09-02T00:00:00.000000000",
          "2025-09-03T00:00:00.000000000",
          "2025-09-04T00:00:00.000000000",
          "2025-09-05T00:00:00.000000000",
          "2025-09-08T00:00:00.000000000",
          "2025-09-09T00:00:00.000000000"
         ]
        },
        {
         "marker": {
          "color": "red",
          "size": 10
         },
         "mode": "markers",
         "name": "Low Minima",
         "type": "scatter",
         "x": [
          "2025-08-21T00:00:00.000000000"
         ],
         "y": {
          "bdata": "AAAAwB5VXEA=",
          "dtype": "f8"
         }
        },
        {
         "marker": {
          "color": "green",
          "size": 10
         },
         "mode": "markers",
         "name": "High Maxima",
         "type": "scatter",
         "x": [
          "2025-08-28T00:00:00.000000000"
         ],
         "y": {
          "bdata": "AAAAoEcRXkA=",
          "dtype": "f8"
         }
        }
       ],
       "layout": {
        "template": {
         "data": {
          "bar": [
           {
            "error_x": {
             "color": "#2a3f5f"
            },
            "error_y": {
             "color": "#2a3f5f"
            },
            "marker": {
             "line": {
              "color": "#E5ECF6",
              "width": 0.5
             },
             "pattern": {
              "fillmode": "overlay",
              "size": 10,
              "solidity": 0.2
             }
            },
            "type": "bar"
           }
          ],
          "barpolar": [
           {
            "marker": {
             "line": {
              "color": "#E5ECF6",
              "width": 0.5
             },
             "pattern": {
              "fillmode": "overlay",
              "size": 10,
              "solidity": 0.2
             }
            },
            "type": "barpolar"
           }
          ],
          "carpet": [
           {
            "aaxis": {
             "endlinecolor": "#2a3f5f",
             "gridcolor": "white",
             "linecolor": "white",
             "minorgridcolor": "white",
             "startlinecolor": "#2a3f5f"
            },
            "baxis": {
             "endlinecolor": "#2a3f5f",
             "gridcolor": "white",
             "linecolor": "white",
             "minorgridcolor": "white",
             "startlinecolor": "#2a3f5f"
            },
            "type": "carpet"
           }
          ],
          "choropleth": [
           {
            "colorbar": {
             "outlinewidth": 0,
             "ticks": ""
            },
            "type": "choropleth"
           }
          ],
          "contour": [
           {
            "colorbar": {
             "outlinewidth": 0,
             "ticks": ""
            },
            "colorscale": [
             [
              0,
              "#0d0887"
             ],
             [
              0.1111111111111111,
              "#46039f"
             ],
             [
              0.2222222222222222,
              "#7201a8"
             ],
             [
              0.3333333333333333,
              "#9c179e"
             ],
             [
              0.4444444444444444,
              "#bd3786"
             ],
             [
              0.5555555555555556,
              "#d8576b"
             ],
             [
              0.6666666666666666,
              "#ed7953"
             ],
             [
              0.7777777777777778,
              "#fb9f3a"
             ],
             [
              0.8888888888888888,
              "#fdca26"
             ],
             [
              1,
              "#f0f921"
             ]
            ],
            "type": "contour"
           }
          ],
          "contourcarpet": [
           {
            "colorbar": {
             "outlinewidth": 0,
             "ticks": ""
            },
            "type": "contourcarpet"
           }
          ],
          "heatmap": [
           {
            "colorbar": {
             "outlinewidth": 0,
             "ticks": ""
            },
            "colorscale": [
             [
              0,
              "#0d0887"
             ],
             [
              0.1111111111111111,
              "#46039f"
             ],
             [
              0.2222222222222222,
              "#7201a8"
             ],
             [
              0.3333333333333333,
              "#9c179e"
             ],
             [
              0.4444444444444444,
              "#bd3786"
             ],
             [
              0.5555555555555556,
              "#d8576b"
             ],
             [
              0.6666666666666666,
              "#ed7953"
             ],
             [
              0.7777777777777778,
              "#fb9f3a"
             ],
             [
              0.8888888888888888,
              "#fdca26"
             ],
             [
              1,
              "#f0f921"
             ]
            ],
            "type": "heatmap"
           }
          ],
          "histogram": [
           {
            "marker": {
             "pattern": {
              "fillmode": "overlay",
              "size": 10,
              "solidity": 0.2
             }
            },
            "type": "histogram"
           }
          ],
          "histogram2d": [
           {
            "colorbar": {
             "outlinewidth": 0,
             "ticks": ""
            },
            "colorscale": [
             [
              0,
              "#0d0887"
             ],
             [
              0.1111111111111111,
              "#46039f"
             ],
             [
              0.2222222222222222,
              "#7201a8"
             ],
             [
              0.3333333333333333,
              "#9c179e"
             ],
             [
              0.4444444444444444,
              "#bd3786"
             ],
             [
              0.5555555555555556,
              "#d8576b"
             ],
             [
              0.6666666666666666,
              "#ed7953"
             ],
             [
              0.7777777777777778,
              "#fb9f3a"
             ],
             [
              0.8888888888888888,
              "#fdca26"
             ],
             [
              1,
              "#f0f921"
             ]
            ],
            "type": "histogram2d"
           }
          ],
          "histogram2dcontour": [
           {
            "colorbar": {
             "outlinewidth": 0,
             "ticks": ""
            },
            "colorscale": [
             [
              0,
              "#0d0887"
             ],
             [
              0.1111111111111111,
              "#46039f"
             ],
             [
              0.2222222222222222,
              "#7201a8"
             ],
             [
              0.3333333333333333,
              "#9c179e"
             ],
             [
              0.4444444444444444,
              "#bd3786"
             ],
             [
              0.5555555555555556,
              "#d8576b"
             ],
             [
              0.6666666666666666,
              "#ed7953"
             ],
             [
              0.7777777777777778,
              "#fb9f3a"
             ],
             [
              0.8888888888888888,
              "#fdca26"
             ],
             [
              1,
              "#f0f921"
             ]
            ],
            "type": "histogram2dcontour"
           }
          ],
          "mesh3d": [
           {
            "colorbar": {
             "outlinewidth": 0,
             "ticks": ""
            },
            "type": "mesh3d"
           }
          ],
          "parcoords": [
           {
            "line": {
             "colorbar": {
              "outlinewidth": 0,
              "ticks": ""
             }
            },
            "type": "parcoords"
           }
          ],
          "pie": [
           {
            "automargin": true,
            "type": "pie"
           }
          ],
          "scatter": [
           {
            "fillpattern": {
             "fillmode": "overlay",
             "size": 10,
             "solidity": 0.2
            },
            "type": "scatter"
           }
          ],
          "scatter3d": [
           {
            "line": {
             "colorbar": {
              "outlinewidth": 0,
              "ticks": ""
             }
            },
            "marker": {
             "colorbar": {
              "outlinewidth": 0,
              "ticks": ""
             }
            },
            "type": "scatter3d"
           }
          ],
          "scattercarpet": [
           {
            "marker": {
             "colorbar": {
              "outlinewidth": 0,
              "ticks": ""
             }
            },
            "type": "scattercarpet"
           }
          ],
          "scattergeo": [
           {
            "marker": {
             "colorbar": {
              "outlinewidth": 0,
              "ticks": ""
             }
            },
            "type": "scattergeo"
           }
          ],
          "scattergl": [
           {
            "marker": {
             "colorbar": {
              "outlinewidth": 0,
              "ticks": ""
             }
            },
            "type": "scattergl"
           }
          ],
          "scattermap": [
           {
            "marker": {
             "colorbar": {
              "outlinewidth": 0,
              "ticks": ""
             }
            },
            "type": "scattermap"
           }
          ],
          "scattermapbox": [
           {
            "marker": {
             "colorbar": {
              "outlinewidth": 0,
              "ticks": ""
             }
            },
            "type": "scattermapbox"
           }
          ],
          "scatterpolar": [
           {
            "marker": {
             "colorbar": {
              "outlinewidth": 0,
              "ticks": ""
             }
            },
            "type": "scatterpolar"
           }
          ],
          "scatterpolargl": [
           {
            "marker": {
             "colorbar": {
              "outlinewidth": 0,
              "ticks": ""
             }
            },
            "type": "scatterpolargl"
           }
          ],
          "scatterternary": [
           {
            "marker": {
             "colorbar": {
              "outlinewidth": 0,
              "ticks": ""
             }
            },
            "type": "scatterternary"
           }
          ],
          "surface": [
           {
            "colorbar": {
             "outlinewidth": 0,
             "ticks": ""
            },
            "colorscale": [
             [
              0,
              "#0d0887"
             ],
             [
              0.1111111111111111,
              "#46039f"
             ],
             [
              0.2222222222222222,
              "#7201a8"
             ],
             [
              0.3333333333333333,
              "#9c179e"
             ],
             [
              0.4444444444444444,
              "#bd3786"
             ],
             [
              0.5555555555555556,
              "#d8576b"
             ],
             [
              0.6666666666666666,
              "#ed7953"
             ],
             [
              0.7777777777777778,
              "#fb9f3a"
             ],
             [
              0.8888888888888888,
              "#fdca26"
             ],
             [
              1,
              "#f0f921"
             ]
            ],
            "type": "surface"
           }
          ],
          "table": [
           {
            "cells": {
             "fill": {
              "color": "#EBF0F8"
             },
             "line": {
              "color": "white"
             }
            },
            "header": {
             "fill": {
              "color": "#C8D4E3"
             },
             "line": {
              "color": "white"
             }
            },
            "type": "table"
           }
          ]
         },
         "layout": {
          "annotationdefaults": {
           "arrowcolor": "#2a3f5f",
           "arrowhead": 0,
           "arrowwidth": 1
          },
          "autotypenumbers": "strict",
          "coloraxis": {
           "colorbar": {
            "outlinewidth": 0,
            "ticks": ""
           }
          },
          "colorscale": {
           "diverging": [
            [
             0,
             "#8e0152"
            ],
            [
             0.1,
             "#c51b7d"
            ],
            [
             0.2,
             "#de77ae"
            ],
            [
             0.3,
             "#f1b6da"
            ],
            [
             0.4,
             "#fde0ef"
            ],
            [
             0.5,
             "#f7f7f7"
            ],
            [
             0.6,
             "#e6f5d0"
            ],
            [
             0.7,
             "#b8e186"
            ],
            [
             0.8,
             "#7fbc41"
            ],
            [
             0.9,
             "#4d9221"
            ],
            [
             1,
             "#276419"
            ]
           ],
           "sequential": [
            [
             0,
             "#0d0887"
            ],
            [
             0.1111111111111111,
             "#46039f"
            ],
            [
             0.2222222222222222,
             "#7201a8"
            ],
            [
             0.3333333333333333,
             "#9c179e"
            ],
            [
             0.4444444444444444,
             "#bd3786"
            ],
            [
             0.5555555555555556,
             "#d8576b"
            ],
            [
             0.6666666666666666,
             "#ed7953"
            ],
            [
             0.7777777777777778,
             "#fb9f3a"
            ],
            [
             0.8888888888888888,
             "#fdca26"
            ],
            [
             1,
             "#f0f921"
            ]
           ],
           "sequentialminus": [
            [
             0,
             "#0d0887"
            ],
            [
             0.1111111111111111,
             "#46039f"
            ],
            [
             0.2222222222222222,
             "#7201a8"
            ],
            [
             0.3333333333333333,
             "#9c179e"
            ],
            [
             0.4444444444444444,
             "#bd3786"
            ],
            [
             0.5555555555555556,
             "#d8576b"
            ],
            [
             0.6666666666666666,
             "#ed7953"
            ],
            [
             0.7777777777777778,
             "#fb9f3a"
            ],
            [
             0.8888888888888888,
             "#fdca26"
            ],
            [
             1,
             "#f0f921"
            ]
           ]
          },
          "colorway": [
           "#636efa",
           "#EF553B",
           "#00cc96",
           "#ab63fa",
           "#FFA15A",
           "#19d3f3",
           "#FF6692",
           "#B6E880",
           "#FF97FF",
           "#FECB52"
          ],
          "font": {
           "color": "#2a3f5f"
          },
          "geo": {
           "bgcolor": "white",
           "lakecolor": "white",
           "landcolor": "#E5ECF6",
           "showlakes": true,
           "showland": true,
           "subunitcolor": "white"
          },
          "hoverlabel": {
           "align": "left"
          },
          "hovermode": "closest",
          "mapbox": {
           "style": "light"
          },
          "paper_bgcolor": "white",
          "plot_bgcolor": "#E5ECF6",
          "polar": {
           "angularaxis": {
            "gridcolor": "white",
            "linecolor": "white",
            "ticks": ""
           },
           "bgcolor": "#E5ECF6",
           "radialaxis": {
            "gridcolor": "white",
            "linecolor": "white",
            "ticks": ""
           }
          },
          "scene": {
           "xaxis": {
            "backgroundcolor": "#E5ECF6",
            "gridcolor": "white",
            "gridwidth": 2,
            "linecolor": "white",
            "showbackground": true,
            "ticks": "",
            "zerolinecolor": "white"
           },
           "yaxis": {
            "backgroundcolor": "#E5ECF6",
            "gridcolor": "white",
            "gridwidth": 2,
            "linecolor": "white",
            "showbackground": true,
            "ticks": "",
            "zerolinecolor": "white"
           },
           "zaxis": {
            "backgroundcolor": "#E5ECF6",
            "gridcolor": "white",
            "gridwidth": 2,
            "linecolor": "white",
            "showbackground": true,
            "ticks": "",
            "zerolinecolor": "white"
           }
          },
          "shapedefaults": {
           "line": {
            "color": "#2a3f5f"
           }
          },
          "ternary": {
           "aaxis": {
            "gridcolor": "white",
            "linecolor": "white",
            "ticks": ""
           },
           "baxis": {
            "gridcolor": "white",
            "linecolor": "white",
            "ticks": ""
           },
           "bgcolor": "#E5ECF6",
           "caxis": {
            "gridcolor": "white",
            "linecolor": "white",
            "ticks": ""
           }
          },
          "title": {
           "x": 0.05
          },
          "xaxis": {
           "automargin": true,
           "gridcolor": "white",
           "linecolor": "white",
           "ticks": "",
           "title": {
            "standoff": 15
           },
           "zerolinecolor": "white",
           "zerolinewidth": 2
          },
          "yaxis": {
           "automargin": true,
           "gridcolor": "white",
           "linecolor": "white",
           "ticks": "",
           "title": {
            "standoff": 15
           },
           "zerolinecolor": "white",
           "zerolinewidth": 2
          }
         }
        },
        "title": {
         "text": "Candlestick Chart with Extrema"
        },
        "xaxis": {
         "rangeslider": {
          "visible": false
         },
         "title": {
          "text": "Date"
         }
        },
        "yaxis": {
         "title": {
          "text": "Price"
         }
        }
       }
      }
     },
     "metadata": {},
     "output_type": "display_data"
    }
   ],
   "source": [
    "import plotly.graph_objects as go\n",
    "\n",
    "\n",
    "def plot_candlestick_with_extrema(data, low_minima, high_maxima):\n",
    "    \"\"\"Plot a candlestick chart with extrema points using Plotly.\"\"\"\n",
    "    fig = go.Figure()\n",
    "    # Candlestick\n",
    "    fig.add_trace(\n",
    "        go.Candlestick(\n",
    "            x=data.index,\n",
    "            open=data[\"Open\"],\n",
    "            high=data[\"High\"],\n",
    "            low=data[\"Low\"],\n",
    "            close=data[\"Close\"],\n",
    "            name=\"Candlestick\",\n",
    "        )\n",
    "    )\n",
    "    # Low minimas\n",
    "    fig.add_trace(\n",
    "        go.Scatter(\n",
    "            x=low_minima.index,\n",
    "            y=low_minima[\"Low\"],\n",
    "            mode=\"markers\",\n",
    "            marker=dict(color=\"red\", size=10),\n",
    "            name=\"Low Minima\",\n",
    "        )\n",
    "    )\n",
    "    # High maximas\n",
    "    fig.add_trace(\n",
    "        go.Scatter(\n",
    "            x=high_maxima.index,\n",
    "            y=high_maxima[\"High\"],\n",
    "            mode=\"markers\",\n",
    "            marker=dict(color=\"green\", size=10),\n",
    "            name=\"High Maxima\",\n",
    "        )\n",
    "    )\n",
    "    fig.update_layout(\n",
    "        title=\"Candlestick Chart with Extrema\",\n",
    "        xaxis_title=\"Date\",\n",
    "        yaxis_title=\"Price\",\n",
    "        xaxis_rangeslider_visible=False,\n",
    "    )\n",
    "    fig.show()\n",
    "\n",
    "\n",
    "# Example usage with candlestick plot\n",
    "plot_candlestick_with_extrema(data, low_minima, high_maxima)"
   ]
  },
  {
   "cell_type": "code",
   "execution_count": 408,
   "id": "1dd1ab82",
   "metadata": {},
   "outputs": [],
   "source": [
    "# we will search for the best prominence coefficient (at least verify for a few cases):\n",
    "# BLK: min 08-20, max 08-22 (between aug 13, sep 3incl.)\n",
    "# agco: min 08-14, max 08-22 (between jul 31, sep 2incl.)\n",
    "# CPA: min  aug  21aug28(between aug 12, sep 10 incl.)\n"
   ]
  },
  {
   "cell_type": "code",
   "execution_count": null,
   "id": "d01cdf1f",
   "metadata": {},
   "outputs": [],
   "source": []
  }
 ],
 "metadata": {
  "kernelspec": {
   "display_name": "automate-minimas",
   "language": "python",
   "name": "python3"
  },
  "language_info": {
   "codemirror_mode": {
    "name": "ipython",
    "version": 3
   },
   "file_extension": ".py",
   "mimetype": "text/x-python",
   "name": "python",
   "nbconvert_exporter": "python",
   "pygments_lexer": "ipython3",
   "version": "3.12.3"
  }
 },
 "nbformat": 4,
 "nbformat_minor": 5
}
